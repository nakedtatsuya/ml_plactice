{
 "cells": [
  {
   "cell_type": "code",
   "execution_count": 1,
   "id": "92fc7d63",
   "metadata": {},
   "outputs": [
    {
     "name": "stderr",
     "output_type": "stream",
     "text": [
      "2022-05-08 11:37:10.261098: W tensorflow/stream_executor/platform/default/dso_loader.cc:64] Could not load dynamic library 'libcudart.so.11.0'; dlerror: libcudart.so.11.0: cannot open shared object file: No such file or directory\n",
      "2022-05-08 11:37:10.261143: I tensorflow/stream_executor/cuda/cudart_stub.cc:29] Ignore above cudart dlerror if you do not have a GPU set up on your machine.\n",
      "2022-05-08 11:37:12.900960: W tensorflow/stream_executor/platform/default/dso_loader.cc:64] Could not load dynamic library 'libcuda.so.1'; dlerror: libcuda.so.1: cannot open shared object file: No such file or directory\n",
      "2022-05-08 11:37:12.901022: W tensorflow/stream_executor/cuda/cuda_driver.cc:269] failed call to cuInit: UNKNOWN ERROR (303)\n",
      "2022-05-08 11:37:12.901044: I tensorflow/stream_executor/cuda/cuda_diagnostics.cc:156] kernel driver does not appear to be running on this host (DESKTOP-GC2VT9N): /proc/driver/nvidia/version does not exist\n",
      "2022-05-08 11:37:12.901262: I tensorflow/core/platform/cpu_feature_guard.cc:151] This TensorFlow binary is optimized with oneAPI Deep Neural Network Library (oneDNN) to use the following CPU instructions in performance-critical operations:  AVX2 FMA\n",
      "To enable them in other operations, rebuild TensorFlow with the appropriate compiler flags.\n"
     ]
    }
   ],
   "source": [
    "from tensorflow import keras\n",
    "import tensorflow as tf\n",
    "import numpy as np\n",
    "\n",
    "keras.backend.clear_session()\n",
    "tf.random.set_seed(42)\n",
    "np.random.seed(42)\n",
    "\n",
    "model = keras.models.Sequential()\n",
    "model.add(keras.layers.Flatten(input_shape=[32, 32, 3]))\n",
    "for _ in range(20):\n",
    "    model.add(keras.layers.Dense(100,\n",
    "                                 activation=\"elu\",\n",
    "                                 kernel_initializer=\"he_normal\"))\n"
   ]
  },
  {
   "cell_type": "code",
   "execution_count": 2,
   "id": "cf20876e",
   "metadata": {},
   "outputs": [],
   "source": [
    "model.add(keras.layers.Dense(10, activation=\"softmax\"))\n"
   ]
  },
  {
   "cell_type": "code",
   "execution_count": 3,
   "id": "3d82e676",
   "metadata": {},
   "outputs": [],
   "source": [
    "optimizer = keras.optimizers.Nadam(learning_rate=5e-5)\n",
    "model.compile(loss=\"sparse_categorical_crossentropy\",\n",
    "              optimizer=optimizer,\n",
    "              metrics=[\"accuracy\"])\n"
   ]
  },
  {
   "cell_type": "code",
   "execution_count": 4,
   "id": "05f6b17d",
   "metadata": {},
   "outputs": [],
   "source": [
    "(X_train_full, y_train_full), (X_test, y_test) = keras.datasets.cifar10.load_data()\n",
    "\n",
    "X_train = X_train_full[5000:]\n",
    "y_train = y_train_full[5000:]\n",
    "X_valid = X_train_full[:5000]\n",
    "y_valid = y_train_full[:5000]\n"
   ]
  },
  {
   "cell_type": "code",
   "execution_count": 5,
   "id": "bab347ee",
   "metadata": {},
   "outputs": [],
   "source": [
    "import os\n",
    "early_stopping_cb = keras.callbacks.EarlyStopping(patience=20)\n",
    "model_checkpoint_cb = keras.callbacks.ModelCheckpoint(\n",
    "    \"my_cifar10_model.h5\", save_best_only=True)\n",
    "run_index = 1  # increment every time you train the model\n",
    "run_logdir = os.path.join(os.curdir, \"my_cifar10_logs\",\n",
    "                          \"run_{:03d}\".format(run_index))\n",
    "tensorboard_cb = keras.callbacks.TensorBoard(run_logdir)\n",
    "callbacks = [early_stopping_cb, model_checkpoint_cb, tensorboard_cb]\n"
   ]
  },
  {
   "cell_type": "code",
   "execution_count": 6,
   "id": "1789b2c1",
   "metadata": {},
   "outputs": [
    {
     "data": {
      "text/plain": [
       "ERROR: Failed to launch TensorBoard (exited with 2).\n",
       "Contents of stderr:\n",
       "usage: tensorboard [-h] [--helpfull] [--logdir PATH] [--logdir_spec PATH_SPEC]\n",
       "                   [--host ADDR] [--bind_all] [--port PORT]\n",
       "                   [--reuse_port BOOL] [--load_fast {false,auto,true}]\n",
       "                   [--extra_data_server_flags EXTRA_DATA_SERVER_FLAGS]\n",
       "                   [--grpc_creds_type {local,ssl,ssl_dev}]\n",
       "                   [--grpc_data_provider PORT] [--purge_orphaned_data BOOL]\n",
       "                   [--db URI] [--db_import] [--inspect] [--version_tb]\n",
       "                   [--tag TAG] [--event_file PATH] [--path_prefix PATH]\n",
       "                   [--window_title TEXT] [--max_reload_threads COUNT]\n",
       "                   [--reload_interval SECONDS] [--reload_task TYPE]\n",
       "                   [--reload_multifile BOOL]\n",
       "                   [--reload_multifile_inactive_secs SECONDS]\n",
       "                   [--generic_data TYPE]\n",
       "                   [--samples_per_plugin SAMPLES_PER_PLUGIN]\n",
       "                   [--whatif-use-unsafe-custom-prediction YOUR_CUSTOM_PREDICT_FUNCTION.py]\n",
       "                   [--whatif-data-dir PATH]\n",
       "                   {serve,dev} ...\n",
       "tensorboard: error: invalid choice: '-' (choose from 'serve', 'dev')"
      ]
     },
     "metadata": {},
     "output_type": "display_data"
    }
   ],
   "source": [
    "%load_ext tensorboard\n",
    "os.environ['TF_CPP_MIN_LOG_LEVEL'] = '3'\n",
    "\n",
    "%tensorboard - -logdir=my_cifar10_logs - -port = 6006\n"
   ]
  },
  {
   "cell_type": "code",
   "execution_count": 7,
   "id": "b3cd5ebb",
   "metadata": {},
   "outputs": [
    {
     "name": "stdout",
     "output_type": "stream",
     "text": [
      "Epoch 1/100\n",
      " 758/1407 [===============>..............] - ETA: 8s - loss: 5.6200 - accuracy: 0.1410"
     ]
    }
   ],
   "source": [
    "model.fit(X_train, y_train, epochs=100,\n",
    "          validation_data=(X_valid, y_valid),\n",
    "          callbacks=callbacks)\n"
   ]
  },
  {
   "cell_type": "code",
   "execution_count": 8,
   "id": "86ca61a3",
   "metadata": {},
   "outputs": [
    {
     "name": "stdout",
     "output_type": "stream",
     "text": [
      "157/157 [==============================] - 1s 4ms/step - loss: 1.7626 - accuracy: 0.3598\n"
     ]
    },
    {
     "data": {
      "text/plain": [
       "[1.7626469135284424, 0.3598000109195709]"
      ]
     },
     "execution_count": 8,
     "metadata": {},
     "output_type": "execute_result"
    }
   ],
   "source": [
    "model = keras.models.load_model(\"my_cifar10_model.h5\")\n",
    "model.evaluate(X_valid, y_valid)\n"
   ]
  },
  {
   "cell_type": "code",
   "execution_count": null,
   "id": "da05010e",
   "metadata": {},
   "outputs": [
    {
     "name": "stdout",
     "output_type": "stream",
     "text": [
      "Epoch 1/100\n",
      "1407/1407 [==============================] - 45s 25ms/step - loss: 1.8455 - accuracy: 0.3407 - val_loss: 1.6405 - val_accuracy: 0.4078\n",
      "Epoch 2/100\n",
      "1407/1407 [==============================] - 35s 25ms/step - loss: 1.6660 - accuracy: 0.4076 - val_loss: 1.5691 - val_accuracy: 0.4324\n",
      "Epoch 3/100\n",
      "1407/1407 [==============================] - 33s 24ms/step - loss: 1.5969 - accuracy: 0.4315 - val_loss: 1.5329 - val_accuracy: 0.4506\n",
      "Epoch 4/100\n",
      "1407/1407 [==============================] - 35s 25ms/step - loss: 1.5480 - accuracy: 0.4490 - val_loss: 1.5222 - val_accuracy: 0.4524\n",
      "Epoch 5/100\n",
      "1407/1407 [==============================] - 33s 24ms/step - loss: 1.5044 - accuracy: 0.4638 - val_loss: 1.4547 - val_accuracy: 0.4812\n",
      "Epoch 6/100\n",
      "1407/1407 [==============================] - 34s 24ms/step - loss: 1.4686 - accuracy: 0.4772 - val_loss: 1.4372 - val_accuracy: 0.4842\n",
      "Epoch 7/100\n",
      "1407/1407 [==============================] - 33s 24ms/step - loss: 1.4337 - accuracy: 0.4907 - val_loss: 1.4281 - val_accuracy: 0.4874\n",
      "Epoch 8/100\n",
      "1407/1407 [==============================] - 33s 24ms/step - loss: 1.4082 - accuracy: 0.5020 - val_loss: 1.3848 - val_accuracy: 0.5016\n",
      "Epoch 9/100\n",
      "1407/1407 [==============================] - 33s 24ms/step - loss: 1.3793 - accuracy: 0.5126 - val_loss: 1.3876 - val_accuracy: 0.5062\n",
      "Epoch 10/100\n",
      "1407/1407 [==============================] - 33s 24ms/step - loss: 1.3563 - accuracy: 0.5196 - val_loss: 1.3570 - val_accuracy: 0.5204\n",
      "Epoch 11/100\n",
      "1407/1407 [==============================] - 34s 24ms/step - loss: 1.3376 - accuracy: 0.5268 - val_loss: 1.3668 - val_accuracy: 0.5144\n",
      "Epoch 12/100\n",
      "1407/1407 [==============================] - 33s 24ms/step - loss: 1.3159 - accuracy: 0.5363 - val_loss: 1.3689 - val_accuracy: 0.5028\n",
      "Epoch 13/100\n",
      "1407/1407 [==============================] - 34s 24ms/step - loss: 1.2945 - accuracy: 0.5413 - val_loss: 1.3622 - val_accuracy: 0.5172\n",
      "Epoch 14/100\n",
      "1407/1407 [==============================] - 34s 24ms/step - loss: 1.2763 - accuracy: 0.5474 - val_loss: 1.3295 - val_accuracy: 0.5292\n",
      "Epoch 15/100\n",
      "1407/1407 [==============================] - 34s 24ms/step - loss: 1.2614 - accuracy: 0.5542 - val_loss: 1.3725 - val_accuracy: 0.5210\n",
      "Epoch 16/100\n",
      "1407/1407 [==============================] - 35s 25ms/step - loss: 1.2488 - accuracy: 0.5588 - val_loss: 1.3610 - val_accuracy: 0.5288\n",
      "Epoch 17/100\n",
      "1407/1407 [==============================] - 34s 24ms/step - loss: 1.2327 - accuracy: 0.5624 - val_loss: 1.3206 - val_accuracy: 0.5310\n",
      "Epoch 18/100\n",
      "1407/1407 [==============================] - 34s 24ms/step - loss: 1.2161 - accuracy: 0.5703 - val_loss: 1.3265 - val_accuracy: 0.5360\n",
      "Epoch 19/100\n",
      "1407/1407 [==============================] - 34s 24ms/step - loss: 1.2018 - accuracy: 0.5764 - val_loss: 1.3382 - val_accuracy: 0.5268\n",
      "Epoch 20/100\n",
      "1407/1407 [==============================] - 34s 24ms/step - loss: 1.1895 - accuracy: 0.5823 - val_loss: 1.3806 - val_accuracy: 0.5170\n",
      "Epoch 21/100\n",
      "1407/1407 [==============================] - 34s 24ms/step - loss: 1.1738 - accuracy: 0.5864 - val_loss: 1.3511 - val_accuracy: 0.5282\n",
      "Epoch 22/100\n",
      "1407/1407 [==============================] - 33s 24ms/step - loss: 1.1581 - accuracy: 0.5889 - val_loss: 1.3553 - val_accuracy: 0.5282\n",
      "Epoch 23/100\n",
      "1407/1407 [==============================] - 34s 24ms/step - loss: 1.1481 - accuracy: 0.5937 - val_loss: 1.3321 - val_accuracy: 0.5386\n",
      "Epoch 24/100\n",
      "1407/1407 [==============================] - 34s 24ms/step - loss: 1.1357 - accuracy: 0.5993 - val_loss: 1.3396 - val_accuracy: 0.5368\n",
      "Epoch 25/100\n",
      "1407/1407 [==============================] - 34s 24ms/step - loss: 1.1244 - accuracy: 0.6033 - val_loss: 1.3312 - val_accuracy: 0.5380\n",
      "Epoch 26/100\n",
      "1407/1407 [==============================] - 34s 24ms/step - loss: 1.1110 - accuracy: 0.6064 - val_loss: 1.3381 - val_accuracy: 0.5302\n",
      "Epoch 27/100\n",
      "1407/1407 [==============================] - 34s 24ms/step - loss: 1.0985 - accuracy: 0.6151 - val_loss: 1.3367 - val_accuracy: 0.5398\n",
      "Epoch 28/100\n",
      "1407/1407 [==============================] - 34s 24ms/step - loss: 1.0948 - accuracy: 0.6143 - val_loss: 1.3475 - val_accuracy: 0.5334\n",
      "Epoch 29/100\n",
      "1407/1407 [==============================] - 33s 24ms/step - loss: 1.0805 - accuracy: 0.6187 - val_loss: 1.3607 - val_accuracy: 0.5398\n",
      "Epoch 30/100\n",
      "1407/1407 [==============================] - 34s 24ms/step - loss: 1.0684 - accuracy: 0.6210 - val_loss: 1.3455 - val_accuracy: 0.5366\n",
      "Epoch 31/100\n",
      "1407/1407 [==============================] - 34s 24ms/step - loss: 1.0585 - accuracy: 0.6259 - val_loss: 1.3662 - val_accuracy: 0.5268\n",
      "Epoch 32/100\n",
      "1407/1407 [==============================] - 33s 24ms/step - loss: 1.0537 - accuracy: 0.6276 - val_loss: 1.3418 - val_accuracy: 0.5338\n",
      "Epoch 33/100\n",
      "1407/1407 [==============================] - 34s 24ms/step - loss: 1.0387 - accuracy: 0.6325 - val_loss: 1.3338 - val_accuracy: 0.5476\n",
      "Epoch 34/100\n",
      "1407/1407 [==============================] - 34s 24ms/step - loss: 1.0296 - accuracy: 0.6369 - val_loss: 1.3440 - val_accuracy: 0.5430\n",
      "Epoch 35/100\n",
      "1407/1407 [==============================] - 34s 24ms/step - loss: 1.0232 - accuracy: 0.6392 - val_loss: 1.3387 - val_accuracy: 0.5394\n",
      "Epoch 36/100\n",
      "1407/1407 [==============================] - 34s 24ms/step - loss: 1.0084 - accuracy: 0.6458 - val_loss: 1.3676 - val_accuracy: 0.5346\n",
      "Epoch 37/100\n",
      "1407/1407 [==============================] - 34s 24ms/step - loss: 0.9955 - accuracy: 0.6497 - val_loss: 1.3468 - val_accuracy: 0.5338\n",
      "157/157 [==============================] - 1s 6ms/step - loss: 1.3206 - accuracy: 0.5310\n"
     ]
    },
    {
     "data": {
      "text/plain": [
       "[1.3205668926239014, 0.531000018119812]"
      ]
     },
     "execution_count": 13,
     "metadata": {},
     "output_type": "execute_result"
    }
   ],
   "source": [
    "keras.backend.clear_session()\n",
    "tf.random.set_seed(42)\n",
    "np.random.seed(42)\n",
    "\n",
    "model = keras.models.Sequential()\n",
    "model.add(keras.layers.Flatten(input_shape=[32, 32, 3]))\n",
    "model.add(keras.layers.BatchNormalization())\n",
    "for _ in range(20):\n",
    "    model.add(keras.layers.Dense(100, kernel_initializer=\"he_normal\"))\n",
    "    model.add(keras.layers.BatchNormalization())\n",
    "    model.add(keras.layers.Activation(\"elu\"))\n",
    "model.add(keras.layers.Dense(10, activation=\"softmax\"))\n",
    "\n",
    "optimizer = keras.optimizers.Nadam(learning_rate=5e-4)\n",
    "model.compile(loss=\"sparse_categorical_crossentropy\",\n",
    "              optimizer=optimizer,\n",
    "              metrics=[\"accuracy\"])\n",
    "\n",
    "early_stopping_cb = keras.callbacks.EarlyStopping(patience=20)\n",
    "model_checkpoint_cb = keras.callbacks.ModelCheckpoint(\n",
    "    \"my_cifar10_bn_model.h5\", save_best_only=True)\n",
    "run_index = 1  # increment every time you train the model\n",
    "run_logdir = os.path.join(os.curdir, \"my_cifar10_logs\",\n",
    "                          \"run_bn_{:03d}\".format(run_index))\n",
    "tensorboard_cb = keras.callbacks.TensorBoard(run_logdir)\n",
    "callbacks = [early_stopping_cb, model_checkpoint_cb, tensorboard_cb]\n",
    "\n",
    "model.fit(X_train, y_train, epochs=100,\n",
    "          validation_data=(X_valid, y_valid),\n",
    "          callbacks=callbacks)\n",
    "\n",
    "model = keras.models.load_model(\"my_cifar10_bn_model.h5\")\n",
    "model.evaluate(X_valid, y_valid)\n"
   ]
  },
  {
   "cell_type": "code",
   "execution_count": null,
   "id": "2e15f69b",
   "metadata": {},
   "outputs": [
    {
     "name": "stdout",
     "output_type": "stream",
     "text": [
      "Epoch 1/100\n",
      "1407/1407 [==============================] - 22s 13ms/step - loss: 1.9357 - accuracy: 0.3048 - val_loss: 1.8938 - val_accuracy: 0.3078\n",
      "Epoch 2/100\n",
      "1407/1407 [==============================] - 17s 12ms/step - loss: 1.7121 - accuracy: 0.3939 - val_loss: 1.7143 - val_accuracy: 0.3780\n",
      "Epoch 3/100\n",
      "1407/1407 [==============================] - 16s 12ms/step - loss: 1.6107 - accuracy: 0.4341 - val_loss: 1.6580 - val_accuracy: 0.4094\n",
      "Epoch 4/100\n",
      "1407/1407 [==============================] - 17s 12ms/step - loss: 1.5457 - accuracy: 0.4586 - val_loss: 1.6352 - val_accuracy: 0.4288\n",
      "Epoch 5/100\n",
      "1407/1407 [==============================] - 16s 12ms/step - loss: 1.4900 - accuracy: 0.4785 - val_loss: 1.6444 - val_accuracy: 0.4294\n",
      "Epoch 6/100\n",
      "1407/1407 [==============================] - 17s 12ms/step - loss: 1.4411 - accuracy: 0.4985 - val_loss: 1.5173 - val_accuracy: 0.4714\n",
      "Epoch 7/100\n",
      "1407/1407 [==============================] - 16s 12ms/step - loss: 1.3978 - accuracy: 0.5127 - val_loss: 1.4869 - val_accuracy: 0.4794\n",
      "Epoch 8/100\n",
      "1407/1407 [==============================] - 16s 12ms/step - loss: 1.3559 - accuracy: 0.5291 - val_loss: 1.4826 - val_accuracy: 0.4930\n",
      "Epoch 9/100\n",
      "1407/1407 [==============================] - 16s 12ms/step - loss: 1.3198 - accuracy: 0.5446 - val_loss: 1.4926 - val_accuracy: 0.4786\n",
      "Epoch 10/100\n",
      "1407/1407 [==============================] - 17s 12ms/step - loss: 1.3011 - accuracy: 0.5500 - val_loss: 1.4727 - val_accuracy: 0.4956\n",
      "Epoch 11/100\n",
      "1407/1407 [==============================] - 17s 12ms/step - loss: 1.2595 - accuracy: 0.5654 - val_loss: 1.4987 - val_accuracy: 0.4958\n",
      "Epoch 12/100\n",
      "1407/1407 [==============================] - 16s 12ms/step - loss: 1.2423 - accuracy: 0.5734 - val_loss: 1.4645 - val_accuracy: 0.5008\n",
      "Epoch 13/100\n",
      "1407/1407 [==============================] - 17s 12ms/step - loss: 1.2145 - accuracy: 0.5817 - val_loss: 1.4873 - val_accuracy: 0.5030\n",
      "Epoch 14/100\n",
      "1407/1407 [==============================] - 17s 12ms/step - loss: 1.1924 - accuracy: 0.5903 - val_loss: 1.4570 - val_accuracy: 0.5162\n",
      "Epoch 15/100\n",
      "1407/1407 [==============================] - 16s 12ms/step - loss: 1.1716 - accuracy: 0.6010 - val_loss: 1.5414 - val_accuracy: 0.4996\n",
      "Epoch 16/100\n",
      "1407/1407 [==============================] - 17s 12ms/step - loss: 1.1421 - accuracy: 0.6102 - val_loss: 1.4685 - val_accuracy: 0.5176\n",
      "Epoch 17/100\n",
      "1407/1407 [==============================] - 16s 12ms/step - loss: 1.1292 - accuracy: 0.6121 - val_loss: 1.4683 - val_accuracy: 0.5160\n",
      "Epoch 18/100\n",
      "1407/1407 [==============================] - 16s 12ms/step - loss: 1.1058 - accuracy: 0.6239 - val_loss: 1.5081 - val_accuracy: 0.5100\n",
      "Epoch 19/100\n",
      "1407/1407 [==============================] - 16s 12ms/step - loss: 1.0843 - accuracy: 0.6301 - val_loss: 1.5145 - val_accuracy: 0.5218\n",
      "Epoch 20/100\n",
      "1407/1407 [==============================] - 16s 12ms/step - loss: 1.0649 - accuracy: 0.6355 - val_loss: 1.5152 - val_accuracy: 0.5044\n",
      "Epoch 21/100\n",
      "1407/1407 [==============================] - 16s 12ms/step - loss: 1.0799 - accuracy: 0.6307 - val_loss: 1.5174 - val_accuracy: 0.5100\n",
      "Epoch 22/100\n",
      "1407/1407 [==============================] - 16s 12ms/step - loss: 1.0259 - accuracy: 0.6482 - val_loss: 1.5340 - val_accuracy: 0.5100\n",
      "Epoch 23/100\n",
      "1407/1407 [==============================] - 16s 12ms/step - loss: 792.1229 - accuracy: 0.5888 - val_loss: 1.5377 - val_accuracy: 0.4832\n",
      "Epoch 24/100\n",
      "1407/1407 [==============================] - 17s 12ms/step - loss: 1.2350 - accuracy: 0.5681 - val_loss: 1.5182 - val_accuracy: 0.4976\n",
      "Epoch 25/100\n",
      "1407/1407 [==============================] - 16s 12ms/step - loss: 1.1104 - accuracy: 0.6100 - val_loss: 1.4903 - val_accuracy: 0.5104\n",
      "Epoch 26/100\n",
      "1407/1407 [==============================] - 17s 12ms/step - loss: 1.0519 - accuracy: 0.6332 - val_loss: 1.5153 - val_accuracy: 0.5036\n",
      "Epoch 27/100\n",
      "1407/1407 [==============================] - 17s 12ms/step - loss: 1.0048 - accuracy: 0.6520 - val_loss: 1.4773 - val_accuracy: 0.5220\n",
      "Epoch 28/100\n",
      "1407/1407 [==============================] - 16s 12ms/step - loss: 0.9787 - accuracy: 0.6617 - val_loss: 1.4803 - val_accuracy: 0.5196\n",
      "Epoch 29/100\n",
      "1407/1407 [==============================] - 16s 12ms/step - loss: 0.9624 - accuracy: 0.6678 - val_loss: 1.5349 - val_accuracy: 0.5184\n",
      "Epoch 30/100\n",
      "1407/1407 [==============================] - 16s 12ms/step - loss: 0.9394 - accuracy: 0.6792 - val_loss: 1.5391 - val_accuracy: 0.5120\n",
      "Epoch 31/100\n",
      "1407/1407 [==============================] - 16s 12ms/step - loss: 0.9276 - accuracy: 0.6816 - val_loss: 1.5512 - val_accuracy: 0.5188\n",
      "Epoch 32/100\n",
      "1407/1407 [==============================] - 16s 12ms/step - loss: 0.9108 - accuracy: 0.6873 - val_loss: 1.5810 - val_accuracy: 0.5166\n",
      "Epoch 33/100\n",
      "1407/1407 [==============================] - 17s 12ms/step - loss: 0.8972 - accuracy: 0.6921 - val_loss: 1.5712 - val_accuracy: 0.5152\n",
      "Epoch 34/100\n",
      "1407/1407 [==============================] - 16s 12ms/step - loss: 0.8856 - accuracy: 0.6989 - val_loss: 1.5691 - val_accuracy: 0.5144\n",
      "157/157 [==============================] - 1s 3ms/step - loss: 1.4570 - accuracy: 0.5162\n"
     ]
    },
    {
     "data": {
      "text/plain": [
       "[1.4570482969284058, 0.5162000060081482]"
      ]
     },
     "execution_count": 14,
     "metadata": {},
     "output_type": "execute_result"
    }
   ],
   "source": [
    "keras.backend.clear_session()\n",
    "tf.random.set_seed(42)\n",
    "np.random.seed(42)\n",
    "\n",
    "model = keras.models.Sequential()\n",
    "model.add(keras.layers.Flatten(input_shape=[32, 32, 3]))\n",
    "for _ in range(20):\n",
    "    model.add(keras.layers.Dense(100,\n",
    "                                 kernel_initializer=\"lecun_normal\",\n",
    "                                 activation=\"selu\"))\n",
    "model.add(keras.layers.Dense(10, activation=\"softmax\"))\n",
    "\n",
    "optimizer = keras.optimizers.Nadam(learning_rate=7e-4)\n",
    "model.compile(loss=\"sparse_categorical_crossentropy\",\n",
    "              optimizer=optimizer,\n",
    "              metrics=[\"accuracy\"])\n",
    "\n",
    "early_stopping_cb = keras.callbacks.EarlyStopping(patience=20)\n",
    "model_checkpoint_cb = keras.callbacks.ModelCheckpoint(\n",
    "    \"my_cifar10_selu_model.h5\", save_best_only=True)\n",
    "run_index = 1  # increment every time you train the model\n",
    "run_logdir = os.path.join(os.curdir, \"my_cifar10_logs\",\n",
    "                          \"run_selu_{:03d}\".format(run_index))\n",
    "tensorboard_cb = keras.callbacks.TensorBoard(run_logdir)\n",
    "callbacks = [early_stopping_cb, model_checkpoint_cb, tensorboard_cb]\n",
    "\n",
    "X_means = X_train.mean(axis=0)\n",
    "X_stds = X_train.std(axis=0)\n",
    "X_train_scaled = (X_train - X_means) / X_stds\n",
    "X_valid_scaled = (X_valid - X_means) / X_stds\n",
    "X_test_scaled = (X_test - X_means) / X_stds\n",
    "\n",
    "model.fit(X_train_scaled, y_train, epochs=100,\n",
    "          validation_data=(X_valid_scaled, y_valid),\n",
    "          callbacks=callbacks)\n",
    "\n",
    "model = keras.models.load_model(\"my_cifar10_selu_model.h5\")\n",
    "model.evaluate(X_valid_scaled, y_valid)\n"
   ]
  },
  {
   "cell_type": "code",
   "execution_count": null,
   "id": "1a89383a",
   "metadata": {},
   "outputs": [
    {
     "ename": "NameError",
     "evalue": "name 'keras' is not defined",
     "output_type": "error",
     "traceback": [
      "\u001b[0;31m---------------------------------------------------------------------------\u001b[0m",
      "\u001b[0;31mNameError\u001b[0m                                 Traceback (most recent call last)",
      "\u001b[1;32m/home/tatsuyafukui/plactice/ml_plactice/11/ml_test.ipynb Cell 11'\u001b[0m in \u001b[0;36m<module>\u001b[0;34m\u001b[0m\n\u001b[0;32m----> <a href='vscode-notebook-cell://wsl%2Bubuntu-20.04/home/tatsuyafukui/plactice/ml_plactice/11/ml_test.ipynb#ch0000010vscode-remote?line=0'>1</a>\u001b[0m model \u001b[39m=\u001b[39m keras\u001b[39m.\u001b[39mmodels\u001b[39m.\u001b[39mload_model(\u001b[39m\"\u001b[39m\u001b[39mmy_cifar10_selu_model.h5\u001b[39m\u001b[39m\"\u001b[39m)\n\u001b[1;32m      <a href='vscode-notebook-cell://wsl%2Bubuntu-20.04/home/tatsuyafukui/plactice/ml_plactice/11/ml_test.ipynb#ch0000010vscode-remote?line=1'>2</a>\u001b[0m model\u001b[39m.\u001b[39mevaluate(X_valid_scaled, y_valid)\n",
      "\u001b[0;31mNameError\u001b[0m: name 'keras' is not defined"
     ]
    }
   ],
   "source": [
    "from tensorflow import keras\n",
    "model = keras.models.load_model(\"my_cifar10_selu_model.h5\")\n",
    "model.evaluate(X_valid_scaled, y_valid)\n"
   ]
  },
  {
   "cell_type": "code",
   "execution_count": null,
   "id": "f17010d8",
   "metadata": {},
   "outputs": [],
   "source": [
    "keras.backend.clear_session()\n",
    "tf.random.set_seed(42)\n",
    "np.random.seed(42)\n",
    "\n",
    "model = keras.models.Sequential()\n",
    "model.add(keras.layers.Flatten(input_shape=[32, 32, 3]))\n",
    "for _ in range(20):\n",
    "    model.add(keras.layers.Dense(100,\n",
    "                                 kernel_initializer=\"lecun_normal\",\n",
    "                                 activation=\"selu\"))\n",
    "\n",
    "model.add(keras.layers.AlphaDropout(rate=0.1))\n",
    "model.add(keras.layers.Dense(10, activation=\"softmax\"))\n",
    "\n",
    "optimizer = keras.optimizers.Nadam(learning_rate=5e-4)\n",
    "model.compile(loss=\"sparse_categorical_crossentropy\",\n",
    "              optimizer=optimizer,\n",
    "              metrics=[\"accuracy\"])\n",
    "\n",
    "early_stopping_cb = keras.callbacks.EarlyStopping(patience=20)\n",
    "model_checkpoint_cb = keras.callbacks.ModelCheckpoint(\n",
    "    \"my_cifar10_alpha_dropout_model.h5\", save_best_only=True)\n",
    "run_index = 1  # increment every time you train the model\n",
    "run_logdir = os.path.join(os.curdir, \"my_cifar10_logs\",\n",
    "                          \"run_alpha_dropout_{:03d}\".format(run_index))\n",
    "tensorboard_cb = keras.callbacks.TensorBoard(run_logdir)\n",
    "callbacks = [early_stopping_cb, model_checkpoint_cb, tensorboard_cb]\n",
    "\n",
    "X_means = X_train.mean(axis=0)\n",
    "X_stds = X_train.std(axis=0)\n",
    "X_train_scaled = (X_train - X_means) / X_stds\n",
    "X_valid_scaled = (X_valid - X_means) / X_stds\n",
    "X_test_scaled = (X_test - X_means) / X_stds\n",
    "\n",
    "model.fit(X_train_scaled, y_train, epochs=100,\n",
    "          validation_data=(X_valid_scaled, y_valid),\n",
    "          callbacks=callbacks)\n",
    "\n",
    "model = keras.models.load_model(\"my_cifar10_alpha_dropout_model.h5\")\n",
    "model.evaluate(X_valid_scaled, y_valid)\n"
   ]
  },
  {
   "cell_type": "code",
   "execution_count": 9,
   "id": "82476a63",
   "metadata": {},
   "outputs": [
    {
     "data": {
      "text/plain": [
       "(50000, 32, 32, 3)"
      ]
     },
     "execution_count": 9,
     "metadata": {},
     "output_type": "execute_result"
    }
   ],
   "source": [
    "(X_train_full, y_train_full), (X_test, y_test) = keras.datasets.cifar10.load_data()\n",
    "X_train_full.shape\n"
   ]
  },
  {
   "cell_type": "code",
   "execution_count": 12,
   "id": "479696cf",
   "metadata": {},
   "outputs": [
    {
     "data": {
      "text/plain": [
       "array([59, 62, 63], dtype=uint8)"
      ]
     },
     "execution_count": 12,
     "metadata": {},
     "output_type": "execute_result"
    }
   ],
   "source": [
    "X_train_full[0][0][0]"
   ]
  },
  {
   "cell_type": "code",
   "execution_count": 18,
   "id": "da30fe5a",
   "metadata": {},
   "outputs": [
    {
     "data": {
      "image/png": "[encoded data removed]",
      "text/plain": [
       "<Figure size 432x288 with 1 Axes>"
      ]
     },
     "metadata": {
      "needs_background": "light"
     },
     "output_type": "display_data"
    }
   ],
   "source": [
    "import matplotlib.pyplot as plt\n",
    "plt.imshow(X_train_full[0], cmap=\"binary\")\n",
    "plt.axis(\"off\")\n",
    "plt.show()\n"
   ]
  }
 ],
 "metadata": {
  "kernelspec": {
   "display_name": "Python 3 (ipykernel)",
   "language": "python",
   "name": "python3"
  },
  "language_info": {
   "codemirror_mode": {
    "name": "ipython",
    "version": 3
   },
   "file_extension": ".py",
   "mimetype": "text/x-python",
   "name": "python",
   "nbconvert_exporter": "python",
   "pygments_lexer": "ipython3",
   "version": "3.8.10"
  }
 },
 "nbformat": 4,
 "nbformat_minor": 5
}
