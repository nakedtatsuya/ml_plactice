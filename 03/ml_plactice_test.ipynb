{
 "cells": [
  {
   "cell_type": "code",
   "execution_count": 1,
   "id": "cbdd3e75",
   "metadata": {},
   "outputs": [
    {
     "data": {
      "text/plain": [
       "dict_keys(['data', 'target', 'frame', 'categories', 'feature_names', 'target_names', 'DESCR', 'details', 'url'])"
      ]
     },
     "execution_count": 1,
     "metadata": {},
     "output_type": "execute_result"
    }
   ],
   "source": [
    "from sklearn.datasets import fetch_openml\n",
    "mnist = fetch_openml(\"mnist_784\", as_frame=False, version=1)\n",
    "mnist.keys()"
   ]
  },
  {
   "cell_type": "code",
   "execution_count": 2,
   "id": "005d074c",
   "metadata": {},
   "outputs": [
    {
     "data": {
      "text/plain": [
       "(70000, 784)"
      ]
     },
     "execution_count": 2,
     "metadata": {},
     "output_type": "execute_result"
    }
   ],
   "source": [
    "X, y = mnist[\"data\"], mnist[\"target\"]\n",
    "X.shape"
   ]
  },
  {
   "cell_type": "code",
   "execution_count": 3,
   "id": "7c93de9f",
   "metadata": {},
   "outputs": [
    {
     "data": {
      "text/plain": [
       "(70000,)"
      ]
     },
     "execution_count": 3,
     "metadata": {},
     "output_type": "execute_result"
    }
   ],
   "source": [
    "y.shape"
   ]
  },
  {
   "cell_type": "code",
   "execution_count": 4,
   "id": "c931f156",
   "metadata": {},
   "outputs": [
    {
     "data": {
      "image/png": "[encoded data removed]",
      "text/plain": [
       "<Figure size 432x288 with 1 Axes>"
      ]
     },
     "metadata": {
      "needs_background": "light"
     },
     "output_type": "display_data"
    }
   ],
   "source": [
    "import matplotlib as mpl\n",
    "import matplotlib.pyplot as plt\n",
    "\n",
    "some_digit = X[0]\n",
    "some_digit_image = some_digit.reshape(28, 28)\n",
    "\n",
    "plt.imshow(some_digit_image, cmap=\"binary\")\n",
    "plt.axis(\"off\")\n",
    "plt.show()"
   ]
  },
  {
   "cell_type": "code",
   "execution_count": 5,
   "id": "3f0e9e83",
   "metadata": {},
   "outputs": [
    {
     "data": {
      "text/plain": [
       "'5'"
      ]
     },
     "execution_count": 5,
     "metadata": {},
     "output_type": "execute_result"
    }
   ],
   "source": [
    "y[0]"
   ]
  },
  {
   "cell_type": "code",
   "execution_count": 6,
   "id": "8e751f0e",
   "metadata": {},
   "outputs": [],
   "source": [
    "import numpy as np\n",
    "\n",
    "y = y.astype(np.uint8)"
   ]
  },
  {
   "cell_type": "code",
   "execution_count": 7,
   "id": "033563ce",
   "metadata": {},
   "outputs": [],
   "source": [
    "X_train, X_test, y_train, y_test = X[:60000], X[60000:], y[:60000], y[60000:]"
   ]
  },
  {
   "cell_type": "code",
   "execution_count": 8,
   "id": "c57f767d",
   "metadata": {},
   "outputs": [
    {
     "data": {
      "text/plain": [
       "KNeighborsClassifier()"
      ]
     },
     "execution_count": 8,
     "metadata": {},
     "output_type": "execute_result"
    }
   ],
   "source": [
    "from sklearn.neighbors import KNeighborsClassifier\n",
    "knn_clf = KNeighborsClassifier()\n",
    "knn_clf.fit(X_train, y_train)\n"
   ]
  },
  {
   "cell_type": "code",
   "execution_count": 9,
   "id": "b9e01588",
   "metadata": {},
   "outputs": [
    {
     "data": {
      "text/plain": [
       "0.9692753386570571"
      ]
     },
     "execution_count": 9,
     "metadata": {},
     "output_type": "execute_result"
    }
   ],
   "source": [
    "from sklearn.metrics import precision_score\n",
    "\n",
    "precision_score(y_test, knn_clf.predict(X_test), average=\"macro\")\n",
    "# 0.9692753386570571\n"
   ]
  },
  {
   "cell_type": "code",
   "execution_count": 10,
   "id": "d9e79527",
   "metadata": {},
   "outputs": [],
   "source": [
    "from sklearn.model_selection import GridSearchCV\n",
    "knn_clf2 = KNeighborsClassifier()\n",
    "\n",
    "weights = [\"uniform\", \"distance\"]\n",
    "n_neighbors = np.arange(5, 7)\n",
    "\n",
    "hyperparameters = dict(weights=weights, n_neighbors=n_neighbors)\n",
    "\n",
    "# clf = GridSearchCV(knn_clf2, hyperparameters, cv=2, return_train_score=False)\n",
    "# clf.fit(X_train, y_train)\n",
    "# precision_score(y_test, clf.predict(X_test), average=\"macro\")\n",
    "# 0.9712960369769521\n"
   ]
  },
  {
   "cell_type": "code",
   "execution_count": 11,
   "id": "5b9c66a1",
   "metadata": {},
   "outputs": [
    {
     "data": {
      "image/png": "[encoded data removed]",
      "text/plain": [
       "<Figure size 432x288 with 1 Axes>"
      ]
     },
     "metadata": {
      "needs_background": "light"
     },
     "output_type": "display_data"
    }
   ],
   "source": [
    "\n",
    "import cv2 \n",
    "def move_img(img, x, y):\n",
    "    M = np.float32([[1, 0, x], [0, 1, y]])\n",
    "    return cv2.warpAffine(img, M, (img.shape[1], img.shape[0]))\n",
    "\n",
    "plt.imshow(move_img(some_digit_image, 5, 1), cmap=\"binary\")\n",
    "plt.axis(\"off\")\n",
    "plt.show()\n"
   ]
  },
  {
   "cell_type": "markdown",
   "id": "d315efe1",
   "metadata": {},
   "source": []
  },
  {
   "cell_type": "markdown",
   "id": "eb8bbf11",
   "metadata": {},
   "source": [
    "- data "
   ]
  },
  {
   "cell_type": "code",
   "execution_count": 12,
   "id": "ee177977",
   "metadata": {},
   "outputs": [],
   "source": [
    "X_train_x1 = [move_img(x.reshape(28, 28), 1, 0).reshape(-1) for x in X_train]\n",
    "X_train_x2 = [move_img(x.reshape(28, 28), -1, 0).reshape(-1) for x in X_train]\n",
    "X_train_y1 = [move_img(x.reshape(28, 28), 0, 1).reshape(-1) for x in X_train]\n",
    "X_train_y2 = [move_img(x.reshape(28, 28), 0, -1).reshape(-1) for x in X_train]\n",
    "\n",
    "X_train_all = np.concatenate([X_train, X_train_x1, X_train_x2, X_train_y1, X_train_y2], axis=0)\n",
    "y_train_all = np.concatenate(\n",
    "    [y_train, y_train, y_train, y_train, y_train], axis=0)"
   ]
  },
  {
   "cell_type": "code",
   "execution_count": null,
   "id": "114e96c1",
   "metadata": {},
   "outputs": [
    {
     "data": {
      "text/plain": [
       "0.9758214273716403"
      ]
     },
     "execution_count": 13,
     "metadata": {},
     "output_type": "execute_result"
    }
   ],
   "source": [
    "knn_clf3 = KNeighborsClassifier()\n",
    "knn_clf3.fit(X_train_all, y_train_all)\n",
    "precision_score(y_test, knn_clf3.predict(X_test), average=\"macro\")\n",
    "# 0.9758214273716403\n"
   ]
  },
  {
   "cell_type": "code",
   "execution_count": null,
   "id": "92149e3c",
   "metadata": {},
   "outputs": [],
   "source": [
    "clf = GridSearchCV(knn_clf3, hyperparameters, cv=3, return_train_score=False)\n",
    "clf.fit(X_train_all, y_train_all)\n",
    "precision_score(y_test, clf.predict(X_test), average=\"macro\")\n"
   ]
  }
 ],
 "metadata": {
  "kernelspec": {
   "display_name": "Python 3 (ipykernel)",
   "language": "python",
   "name": "python3"
  },
  "language_info": {
   "codemirror_mode": {
    "name": "ipython",
    "version": 3
   },
   "file_extension": ".py",
   "mimetype": "text/x-python",
   "name": "python",
   "nbconvert_exporter": "python",
   "pygments_lexer": "ipython3",
   "version": "3.8.10"
  }
 },
 "nbformat": 4,
 "nbformat_minor": 5
}
